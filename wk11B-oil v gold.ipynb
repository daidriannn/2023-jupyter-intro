{
 "cells": [
  {
   "cell_type": "markdown",
   "metadata": {
    "id": "_QNkEvzzryTG"
   },
   "source": [
    "# Oil v. Gold Comparison\n",
    "\n",
    "You want to compare the monthly closing price of gold v. oil over the past decade.\n",
    "\n",
    "The easiest way to uncover a pattern will be to line graph the data\n",
    "\n",
    "The data can be [found here](https://drive.google.com/file/d/122tdS2eTZEq9q7bbKEZMf6168Vi8biRh/view?usp=share_link).\n",
    "\n",
    "\n",
    "\n",
    " "
   ]
  },
  {
   "cell_type": "markdown",
   "metadata": {
    "id": "qIDWNTZfsko-"
   },
   "source": [
    "## What is our approach?"
   ]
  },
  {
   "cell_type": "code",
   "execution_count": 1,
   "metadata": {
    "id": "3R7HNm6NrxnK"
   },
   "outputs": [],
   "source": [
    "import pandas as pd"
   ]
  },
  {
   "cell_type": "code",
   "execution_count": 2,
   "metadata": {
    "id": "t66kNipJrzY2"
   },
   "outputs": [
    {
     "data": {
      "text/html": [
       "<div>\n",
       "<style scoped>\n",
       "    .dataframe tbody tr th:only-of-type {\n",
       "        vertical-align: middle;\n",
       "    }\n",
       "\n",
       "    .dataframe tbody tr th {\n",
       "        vertical-align: top;\n",
       "    }\n",
       "\n",
       "    .dataframe thead th {\n",
       "        text-align: right;\n",
       "    }\n",
       "</style>\n",
       "<table border=\"1\" class=\"dataframe\">\n",
       "  <thead>\n",
       "    <tr style=\"text-align: right;\">\n",
       "      <th></th>\n",
       "      <th>GC1 Comdty (Gold)</th>\n",
       "      <th>Unnamed: 1</th>\n",
       "      <th>Unnamed: 2</th>\n",
       "      <th>CL1 Comdty (Oil)</th>\n",
       "      <th>Unnamed: 4</th>\n",
       "    </tr>\n",
       "  </thead>\n",
       "  <tbody>\n",
       "    <tr>\n",
       "      <th>0</th>\n",
       "      <td>Date</td>\n",
       "      <td>PX_LAST</td>\n",
       "      <td>NaN</td>\n",
       "      <td>Date</td>\n",
       "      <td>PX_LAST</td>\n",
       "    </tr>\n",
       "    <tr>\n",
       "      <th>1</th>\n",
       "      <td>1/31/2008</td>\n",
       "      <td>922.7</td>\n",
       "      <td>NaN</td>\n",
       "      <td>1/31/2008</td>\n",
       "      <td>91.75</td>\n",
       "    </tr>\n",
       "    <tr>\n",
       "      <th>2</th>\n",
       "      <td>2/29/2008</td>\n",
       "      <td>975</td>\n",
       "      <td>NaN</td>\n",
       "      <td>2/29/2008</td>\n",
       "      <td>101.84</td>\n",
       "    </tr>\n",
       "    <tr>\n",
       "      <th>3</th>\n",
       "      <td>3/31/2008</td>\n",
       "      <td>916.2</td>\n",
       "      <td>NaN</td>\n",
       "      <td>3/31/2008</td>\n",
       "      <td>101.58</td>\n",
       "    </tr>\n",
       "    <tr>\n",
       "      <th>4</th>\n",
       "      <td>4/30/2008</td>\n",
       "      <td>865.1</td>\n",
       "      <td>NaN</td>\n",
       "      <td>4/30/2008</td>\n",
       "      <td>113.46</td>\n",
       "    </tr>\n",
       "    <tr>\n",
       "      <th>...</th>\n",
       "      <td>...</td>\n",
       "      <td>...</td>\n",
       "      <td>...</td>\n",
       "      <td>...</td>\n",
       "      <td>...</td>\n",
       "    </tr>\n",
       "    <tr>\n",
       "      <th>117</th>\n",
       "      <td>9/29/2017</td>\n",
       "      <td>1281.5</td>\n",
       "      <td>NaN</td>\n",
       "      <td>9/29/2017</td>\n",
       "      <td>51.67</td>\n",
       "    </tr>\n",
       "    <tr>\n",
       "      <th>118</th>\n",
       "      <td>10/31/2017</td>\n",
       "      <td>1270.5</td>\n",
       "      <td>NaN</td>\n",
       "      <td>10/31/2017</td>\n",
       "      <td>54.38</td>\n",
       "    </tr>\n",
       "    <tr>\n",
       "      <th>119</th>\n",
       "      <td>11/30/2017</td>\n",
       "      <td>1273.2</td>\n",
       "      <td>NaN</td>\n",
       "      <td>11/30/2017</td>\n",
       "      <td>57.4</td>\n",
       "    </tr>\n",
       "    <tr>\n",
       "      <th>120</th>\n",
       "      <td>12/29/2017</td>\n",
       "      <td>1309.3</td>\n",
       "      <td>NaN</td>\n",
       "      <td>12/29/2017</td>\n",
       "      <td>60.42</td>\n",
       "    </tr>\n",
       "    <tr>\n",
       "      <th>121</th>\n",
       "      <td>1/31/2018</td>\n",
       "      <td>1339</td>\n",
       "      <td>NaN</td>\n",
       "      <td>1/31/2018</td>\n",
       "      <td>64.73</td>\n",
       "    </tr>\n",
       "  </tbody>\n",
       "</table>\n",
       "<p>122 rows × 5 columns</p>\n",
       "</div>"
      ],
      "text/plain": [
       "    GC1 Comdty (Gold) Unnamed: 1  Unnamed: 2 CL1 Comdty (Oil) Unnamed: 4\n",
       "0                Date    PX_LAST         NaN             Date    PX_LAST\n",
       "1           1/31/2008      922.7         NaN        1/31/2008      91.75\n",
       "2           2/29/2008        975         NaN        2/29/2008     101.84\n",
       "3           3/31/2008      916.2         NaN        3/31/2008     101.58\n",
       "4           4/30/2008      865.1         NaN        4/30/2008     113.46\n",
       "..                ...        ...         ...              ...        ...\n",
       "117         9/29/2017     1281.5         NaN        9/29/2017      51.67\n",
       "118        10/31/2017     1270.5         NaN       10/31/2017      54.38\n",
       "119        11/30/2017     1273.2         NaN       11/30/2017       57.4\n",
       "120        12/29/2017     1309.3         NaN       12/29/2017      60.42\n",
       "121         1/31/2018       1339         NaN        1/31/2018      64.73\n",
       "\n",
       "[122 rows x 5 columns]"
      ]
     },
     "execution_count": 2,
     "metadata": {},
     "output_type": "execute_result"
    }
   ],
   "source": [
    "df_raw = pd.read_csv(\"oil-v-gold.csv\")\n",
    "df_raw"
   ]
  },
  {
   "cell_type": "code",
   "execution_count": 3,
   "metadata": {},
   "outputs": [
    {
     "name": "stdout",
     "output_type": "stream",
     "text": [
      "<class 'pandas.core.frame.DataFrame'>\n",
      "RangeIndex: 122 entries, 0 to 121\n",
      "Data columns (total 5 columns):\n",
      " #   Column             Non-Null Count  Dtype  \n",
      "---  ------             --------------  -----  \n",
      " 0   GC1 Comdty (Gold)  122 non-null    object \n",
      " 1   Unnamed: 1         122 non-null    object \n",
      " 2   Unnamed: 2         0 non-null      float64\n",
      " 3   CL1 Comdty (Oil)   122 non-null    object \n",
      " 4   Unnamed: 4         122 non-null    object \n",
      "dtypes: float64(1), object(4)\n",
      "memory usage: 4.9+ KB\n"
     ]
    }
   ],
   "source": [
    "df_raw.info()"
   ]
  },
  {
   "cell_type": "markdown",
   "metadata": {},
   "source": [
    "# Fix it\n",
    "## drop duplicates and nan values \n",
    "## convert objects into floaing point numbers\n",
    "## drop column names, provide sensical\n",
    "## rename gold and oil columns"
   ]
  },
  {
   "cell_type": "code",
   "execution_count": 4,
   "metadata": {},
   "outputs": [
    {
     "data": {
      "text/plain": [
       "Index(['GC1 Comdty (Gold)', 'Unnamed: 1', 'Unnamed: 2', 'CL1 Comdty (Oil)',\n",
       "       'Unnamed: 4'],\n",
       "      dtype='object')"
      ]
     },
     "execution_count": 4,
     "metadata": {},
     "output_type": "execute_result"
    }
   ],
   "source": [
    "## drop duplicates\n",
    "df_raw.columns"
   ]
  },
  {
   "cell_type": "code",
   "execution_count": 5,
   "metadata": {},
   "outputs": [
    {
     "data": {
      "text/html": [
       "<div>\n",
       "<style scoped>\n",
       "    .dataframe tbody tr th:only-of-type {\n",
       "        vertical-align: middle;\n",
       "    }\n",
       "\n",
       "    .dataframe tbody tr th {\n",
       "        vertical-align: top;\n",
       "    }\n",
       "\n",
       "    .dataframe thead th {\n",
       "        text-align: right;\n",
       "    }\n",
       "</style>\n",
       "<table border=\"1\" class=\"dataframe\">\n",
       "  <thead>\n",
       "    <tr style=\"text-align: right;\">\n",
       "      <th></th>\n",
       "      <th>GC1 Comdty (Gold)</th>\n",
       "      <th>Unnamed: 1</th>\n",
       "      <th>Unnamed: 4</th>\n",
       "    </tr>\n",
       "  </thead>\n",
       "  <tbody>\n",
       "    <tr>\n",
       "      <th>0</th>\n",
       "      <td>Date</td>\n",
       "      <td>PX_LAST</td>\n",
       "      <td>PX_LAST</td>\n",
       "    </tr>\n",
       "    <tr>\n",
       "      <th>1</th>\n",
       "      <td>1/31/2008</td>\n",
       "      <td>922.7</td>\n",
       "      <td>91.75</td>\n",
       "    </tr>\n",
       "    <tr>\n",
       "      <th>2</th>\n",
       "      <td>2/29/2008</td>\n",
       "      <td>975</td>\n",
       "      <td>101.84</td>\n",
       "    </tr>\n",
       "    <tr>\n",
       "      <th>3</th>\n",
       "      <td>3/31/2008</td>\n",
       "      <td>916.2</td>\n",
       "      <td>101.58</td>\n",
       "    </tr>\n",
       "    <tr>\n",
       "      <th>4</th>\n",
       "      <td>4/30/2008</td>\n",
       "      <td>865.1</td>\n",
       "      <td>113.46</td>\n",
       "    </tr>\n",
       "    <tr>\n",
       "      <th>...</th>\n",
       "      <td>...</td>\n",
       "      <td>...</td>\n",
       "      <td>...</td>\n",
       "    </tr>\n",
       "    <tr>\n",
       "      <th>117</th>\n",
       "      <td>9/29/2017</td>\n",
       "      <td>1281.5</td>\n",
       "      <td>51.67</td>\n",
       "    </tr>\n",
       "    <tr>\n",
       "      <th>118</th>\n",
       "      <td>10/31/2017</td>\n",
       "      <td>1270.5</td>\n",
       "      <td>54.38</td>\n",
       "    </tr>\n",
       "    <tr>\n",
       "      <th>119</th>\n",
       "      <td>11/30/2017</td>\n",
       "      <td>1273.2</td>\n",
       "      <td>57.4</td>\n",
       "    </tr>\n",
       "    <tr>\n",
       "      <th>120</th>\n",
       "      <td>12/29/2017</td>\n",
       "      <td>1309.3</td>\n",
       "      <td>60.42</td>\n",
       "    </tr>\n",
       "    <tr>\n",
       "      <th>121</th>\n",
       "      <td>1/31/2018</td>\n",
       "      <td>1339</td>\n",
       "      <td>64.73</td>\n",
       "    </tr>\n",
       "  </tbody>\n",
       "</table>\n",
       "<p>122 rows × 3 columns</p>\n",
       "</div>"
      ],
      "text/plain": [
       "    GC1 Comdty (Gold) Unnamed: 1 Unnamed: 4\n",
       "0                Date    PX_LAST    PX_LAST\n",
       "1           1/31/2008      922.7      91.75\n",
       "2           2/29/2008        975     101.84\n",
       "3           3/31/2008      916.2     101.58\n",
       "4           4/30/2008      865.1     113.46\n",
       "..                ...        ...        ...\n",
       "117         9/29/2017     1281.5      51.67\n",
       "118        10/31/2017     1270.5      54.38\n",
       "119        11/30/2017     1273.2       57.4\n",
       "120        12/29/2017     1309.3      60.42\n",
       "121         1/31/2018       1339      64.73\n",
       "\n",
       "[122 rows x 3 columns]"
      ]
     },
     "execution_count": 5,
     "metadata": {},
     "output_type": "execute_result"
    }
   ],
   "source": [
    "df = df_raw[['GC1 Comdty (Gold)', 'Unnamed: 1', 'Unnamed: 4']]\n",
    "df"
   ]
  },
  {
   "cell_type": "code",
   "execution_count": null,
   "metadata": {},
   "outputs": [],
   "source": []
  }
 ],
 "metadata": {
  "colab": {
   "authorship_tag": "ABX9TyNmKsqZZNkZcaqIyHd3td8b",
   "provenance": []
  },
  "kernelspec": {
   "display_name": "Python 3 (ipykernel)",
   "language": "python",
   "name": "python3"
  },
  "language_info": {
   "codemirror_mode": {
    "name": "ipython",
    "version": 3
   },
   "file_extension": ".py",
   "mimetype": "text/x-python",
   "name": "python",
   "nbconvert_exporter": "python",
   "pygments_lexer": "ipython3",
   "version": "3.9.13"
  }
 },
 "nbformat": 4,
 "nbformat_minor": 1
}
